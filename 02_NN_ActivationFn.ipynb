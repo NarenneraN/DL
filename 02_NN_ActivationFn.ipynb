{
  "nbformat": 4,
  "nbformat_minor": 0,
  "metadata": {
    "colab": {
      "provenance": [],
      "collapsed_sections": [],
      "authorship_tag": "ABX9TyN5fbeGL9WhwLdyFzA5FjO0",
      "include_colab_link": true
    },
    "kernelspec": {
      "name": "python3",
      "display_name": "Python 3"
    },
    "language_info": {
      "name": "python"
    }
  },
  "cells": [
    {
      "cell_type": "markdown",
      "metadata": {
        "id": "view-in-github",
        "colab_type": "text"
      },
      "source": [
        "<a href=\"https://colab.research.google.com/github/NarenneraN/DL/blob/main/02_NN_ActivationFn.ipynb\" target=\"_parent\"><img src=\"https://colab.research.google.com/assets/colab-badge.svg\" alt=\"Open In Colab\"/></a>"
      ]
    },
    {
      "cell_type": "code",
      "execution_count": 1,
      "metadata": {
        "id": "Lx9t-Pgj4UZC"
      },
      "outputs": [],
      "source": [
        "import tensorflow as tf"
      ]
    },
    {
      "cell_type": "markdown",
      "source": [
        "Sigmoid Fn -> Defenitely helps in converting o to 1 in prob for output layer but for hidden layers what it does??\n",
        " If there's no activation fn then it would be a simple linear equation so here these act fn helps to plot as non-linear eqn"
      ],
      "metadata": {
        "id": "yyG7jFns5W47"
      }
    },
    {
      "cell_type": "markdown",
      "source": [
        "tanh fn -> converts the range from -1 to 1"
      ],
      "metadata": {
        "id": "5IyzDWMF7fV5"
      }
    },
    {
      "cell_type": "markdown",
      "source": [
        "Sigmoid and tanh make learning process slower as they have slope close to 0 in many places which is very difficult to back propagate by gradients"
      ],
      "metadata": {
        "id": "69PNHKav79b3"
      }
    },
    {
      "cell_type": "markdown",
      "source": [
        "ReLu -> \n",
        "For positive -> outputs same \n",
        "For negative -> 0\n",
        "But it also faces gradient vanish \n",
        "So it uses Leaky ReLu"
      ],
      "metadata": {
        "id": "LCM7t4-g8KfZ"
      }
    },
    {
      "cell_type": "code",
      "source": [
        "import math\n",
        "def sigmoid(x):\n",
        "  return 1/(1+math.exp(-x))"
      ],
      "metadata": {
        "id": "pnZ9CY486-RA"
      },
      "execution_count": 2,
      "outputs": []
    },
    {
      "cell_type": "code",
      "source": [
        "sigmoid(100)"
      ],
      "metadata": {
        "colab": {
          "base_uri": "https://localhost:8080/"
        },
        "id": "92U8WGhM8mkg",
        "outputId": "58dbbf7f-a704-4b6b-93f9-2f6824be42bb"
      },
      "execution_count": 3,
      "outputs": [
        {
          "output_type": "execute_result",
          "data": {
            "text/plain": [
              "1.0"
            ]
          },
          "metadata": {},
          "execution_count": 3
        }
      ]
    },
    {
      "cell_type": "code",
      "source": [
        "sigmoid(7)"
      ],
      "metadata": {
        "colab": {
          "base_uri": "https://localhost:8080/"
        },
        "id": "36DYatOl8xoe",
        "outputId": "0e9337d1-4744-4a95-bc01-d273b11ab4ae"
      },
      "execution_count": 4,
      "outputs": [
        {
          "output_type": "execute_result",
          "data": {
            "text/plain": [
              "0.9990889488055994"
            ]
          },
          "metadata": {},
          "execution_count": 4
        }
      ]
    },
    {
      "cell_type": "code",
      "source": [
        "sigmoid(-4)"
      ],
      "metadata": {
        "colab": {
          "base_uri": "https://localhost:8080/"
        },
        "id": "mD2TWmO99AY4",
        "outputId": "e0967735-69a7-466c-90c1-7d2c27331069"
      },
      "execution_count": 8,
      "outputs": [
        {
          "output_type": "execute_result",
          "data": {
            "text/plain": [
              "0.01798620996209156"
            ]
          },
          "metadata": {},
          "execution_count": 8
        }
      ]
    },
    {
      "cell_type": "code",
      "source": [
        "def tanh(x):\n",
        "  return (math.exp(x)-math.exp(-x))/(math.exp(x)+math.exp(-x))"
      ],
      "metadata": {
        "id": "OfcT56kP82mE"
      },
      "execution_count": 5,
      "outputs": []
    },
    {
      "cell_type": "code",
      "source": [
        "tanh(50)"
      ],
      "metadata": {
        "colab": {
          "base_uri": "https://localhost:8080/"
        },
        "id": "bLj7V-P089qE",
        "outputId": "68e72821-62d3-41dc-a20f-f17862601be9"
      },
      "execution_count": 6,
      "outputs": [
        {
          "output_type": "execute_result",
          "data": {
            "text/plain": [
              "1.0"
            ]
          },
          "metadata": {},
          "execution_count": 6
        }
      ]
    },
    {
      "cell_type": "code",
      "source": [
        "tanh(-4)"
      ],
      "metadata": {
        "colab": {
          "base_uri": "https://localhost:8080/"
        },
        "id": "u1LLjEvp8-zH",
        "outputId": "51f76876-f3ed-4626-8bb4-dc28d4d6069f"
      },
      "execution_count": 7,
      "outputs": [
        {
          "output_type": "execute_result",
          "data": {
            "text/plain": [
              "-0.9993292997390669"
            ]
          },
          "metadata": {},
          "execution_count": 7
        }
      ]
    },
    {
      "cell_type": "code",
      "source": [
        "def relu(x):\n",
        "  return max(0,x)"
      ],
      "metadata": {
        "id": "aB2czb-NFqbJ"
      },
      "execution_count": 9,
      "outputs": []
    },
    {
      "cell_type": "code",
      "source": [
        "relu(-7)"
      ],
      "metadata": {
        "colab": {
          "base_uri": "https://localhost:8080/"
        },
        "id": "CQqQ4LT-FuIq",
        "outputId": "75970e19-6198-446b-d40e-72d51a7f20ce"
      },
      "execution_count": 10,
      "outputs": [
        {
          "output_type": "execute_result",
          "data": {
            "text/plain": [
              "0"
            ]
          },
          "metadata": {},
          "execution_count": 10
        }
      ]
    },
    {
      "cell_type": "code",
      "source": [
        "relu(8)"
      ],
      "metadata": {
        "colab": {
          "base_uri": "https://localhost:8080/"
        },
        "id": "is2CuX-eFyEm",
        "outputId": "6cc40ac6-3bb8-430b-cc61-13cb74e7f587"
      },
      "execution_count": 11,
      "outputs": [
        {
          "output_type": "execute_result",
          "data": {
            "text/plain": [
              "8"
            ]
          },
          "metadata": {},
          "execution_count": 11
        }
      ]
    },
    {
      "cell_type": "code",
      "source": [
        "def leak_relu(x):\n",
        "  return max(0.1*x,x)\n",
        "leak_relu(9)"
      ],
      "metadata": {
        "colab": {
          "base_uri": "https://localhost:8080/"
        },
        "id": "1CGExMX6F2tC",
        "outputId": "79d20f79-e7e6-42b0-afe5-ad197abba8ab"
      },
      "execution_count": 12,
      "outputs": [
        {
          "output_type": "execute_result",
          "data": {
            "text/plain": [
              "9"
            ]
          },
          "metadata": {},
          "execution_count": 12
        }
      ]
    },
    {
      "cell_type": "code",
      "source": [
        "leak_relu(-183)"
      ],
      "metadata": {
        "id": "ZpKKxx7CF72L",
        "outputId": "1122ff43-1610-426c-d9f6-88c9d7777d0f",
        "colab": {
          "base_uri": "https://localhost:8080/"
        }
      },
      "execution_count": 13,
      "outputs": [
        {
          "output_type": "execute_result",
          "data": {
            "text/plain": [
              "-18.3"
            ]
          },
          "metadata": {},
          "execution_count": 13
        }
      ]
    }
  ]
}