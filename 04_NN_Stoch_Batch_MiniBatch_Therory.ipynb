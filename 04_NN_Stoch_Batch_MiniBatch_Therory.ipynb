{
  "nbformat": 4,
  "nbformat_minor": 0,
  "metadata": {
    "colab": {
      "provenance": [],
      "authorship_tag": "ABX9TyPHROPV/Cr3TjdzrsQ6fdCU",
      "include_colab_link": true
    },
    "kernelspec": {
      "name": "python3",
      "display_name": "Python 3"
    },
    "language_info": {
      "name": "python"
    }
  },
  "cells": [
    {
      "cell_type": "markdown",
      "metadata": {
        "id": "view-in-github",
        "colab_type": "text"
      },
      "source": [
        "<a href=\"https://colab.research.google.com/github/NarenneraN/DL/blob/main/04_NN_Stoch_Batch_MiniBatch_Therory.ipynb\" target=\"_parent\"><img src=\"https://colab.research.google.com/assets/colab-badge.svg\" alt=\"Open In Colab\"/></a>"
      ]
    },
    {
      "cell_type": "code",
      "execution_count": null,
      "metadata": {
        "id": "QSRGH7A9nzdc"
      },
      "outputs": [],
      "source": []
    },
    {
      "cell_type": "markdown",
      "source": [
        "Batch GD - \n",
        "We go thru all training samples befor calc weight\n",
        "n samples then adjustment \n",
        "if m features them m*n derivatives \n",
        "More computation for bigger datset so its suitable for smaller dataset"
      ],
      "metadata": {
        "id": "9hSk-_uGoAPH"
      }
    },
    {
      "cell_type": "markdown",
      "source": [
        "Stochastic :\n",
        "one randomly picked sample then find out the error and then adjust weights\n",
        "Good for larger training datasets as it wont have to do much of the computation"
      ],
      "metadata": {
        "id": "g1LkqFWaoze1"
      }
    },
    {
      "cell_type": "markdown",
      "source": [
        "Mini Batch is like SGD so it chooses randomly n number sample out of all and forward pass taht to calc weights and then it adjust those weights"
      ],
      "metadata": {
        "id": "V__BdYvhpTPR"
      }
    }
  ]
}